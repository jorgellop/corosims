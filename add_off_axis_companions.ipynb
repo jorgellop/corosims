{
 "cells": [
  {
   "cell_type": "code",
   "execution_count": 1,
   "id": "351423ba",
   "metadata": {},
   "outputs": [],
   "source": [
    "from cgisim_sims import cgisim_sims\n",
    "import matplotlib.pylab as plt\n",
    "import proper\n",
    "import roman_phasec_proper\n",
    "import numpy as np\n",
    "import astropy.io.fits as pyfits\n",
    "from scipy.ndimage import rotate"
   ]
  },
  {
   "cell_type": "code",
   "execution_count": 2,
   "id": "8f3e4e44",
   "metadata": {},
   "outputs": [],
   "source": [
    "cgisim_obj = cgisim_sims()\n",
    "\n",
    "# Set DM solutions\n",
    "dm1 = proper.prop_fits_read( roman_phasec_proper.lib_dir + '/examples/hlc_best_contrast_dm1.fits')\n",
    "dm2 = proper.prop_fits_read( roman_phasec_proper.lib_dir + '/examples/hlc_best_contrast_dm2.fits')\n",
    "cgisim_obj.options['dm1'] = dm1\n",
    "cgisim_obj.options['dm2'] = dm2"
   ]
  },
  {
   "cell_type": "code",
   "execution_count": 3,
   "id": "b0a7c5be",
   "metadata": {},
   "outputs": [],
   "source": [
    "name_scene = 'example_pointsourcecompanions_rollsandRefv7'\n",
    "flag_use_emccd = False"
   ]
  },
  {
   "cell_type": "code",
   "execution_count": 4,
   "id": "28194a2b",
   "metadata": {},
   "outputs": [],
   "source": [
    "# Science target star\n",
    "star_vmag = 5.04\n",
    "cgisim_obj.sources[0]['star_vmag'] = star_vmag\n",
    "cgisim_obj.sources[0]['star_type'] = 'g0v'\n",
    "cgisim_obj.sources[0]['name'] = '47Uma'\n",
    "\n",
    "# Reference star\n",
    "starref_vmag = 5.04\n",
    "cgisim_obj.sources[1]['star_vmag'] = starref_vmag\n",
    "cgisim_obj.sources[1]['star_type'] = 'g0v'\n",
    "cgisim_obj.sources[1]['name'] = 'rPup'\n",
    "\n",
    "# Planet\n",
    "starref_vmag = star_vmag + 8*2.5\n",
    "cgisim_obj.sources[2]['star_vmag'] = starref_vmag\n",
    "cgisim_obj.sources[2]['star_type'] = 'g0v'\n",
    "cgisim_obj.sources[2]['name'] = 'example'"
   ]
  },
  {
   "cell_type": "code",
   "execution_count": 5,
   "id": "7b158a6c",
   "metadata": {},
   "outputs": [],
   "source": [
    "# Read in LOWFE\n",
    "datadir_Z411 = \"/Users/sammyh/Codes/cgisim_sims/data/hlc_os11_v2/\" # \"../cgisim_sims/data/hlc_os11_v2/\"\n",
    "flnm_Z411 = \"hlc_os11_inputs.fits\"\n",
    "inFile = pyfits.open(datadir_Z411+flnm_Z411)\n",
    "hlc_os11_inputs = inFile[0].data\n",
    "\n",
    "# Retrieve jitter values\n",
    "jitt_sig_x_arr = hlc_os11_inputs[:,78] * 1 # [masRMS]\n",
    "jitt_sig_y_arr = hlc_os11_inputs[:,79] * 1 # [masRMS]\n",
    "\n",
    "# Retrieve Z4-Z11 values\n",
    "z411_mat = hlc_os11_inputs[:,46:54]"
   ]
  },
  {
   "cell_type": "code",
   "execution_count": 6,
   "id": "ccbc31f8",
   "metadata": {},
   "outputs": [],
   "source": [
    "# Create scene\n",
    "# Batch IDs -- for naming\n",
    "batch_id_os11 = hlc_os11_inputs[:,2]\n",
    "\n",
    "# Create scene with LO errors\n",
    "cgisim_obj.generate_scene(name=name_scene,jitter_x=jitt_sig_x_arr,jitter_y=jitt_sig_y_arr,\n",
    "                          zindex=np.arange(4,11+1),zval_m=z411_mat)\n",
    "\n",
    "# Initialize schedule_index_array\n",
    "cgisim_obj.scene['schedule']['schedule_index_array'] = []"
   ]
  },
  {
   "cell_type": "code",
   "execution_count": 7,
   "id": "0276347e",
   "metadata": {},
   "outputs": [],
   "source": [
    "# Observe reference target\n",
    "index_batch_ref = 0\n",
    "batch_ID = 0\n",
    "num_frames_ref = len(np.where(batch_id_os11==batch_ID)[0])\n",
    "sourceid_ref = 1 # choose the star\n",
    "V3PA = 0         # roll angle\n",
    "exptime = 30     \n",
    "cgisim_obj.scene['schedule']['batches'][0] = {'num_timesteps':num_frames_ref,\n",
    "                                                 'batch_ID':batch_ID,\n",
    "                                                 'sourceid':sourceid_ref,\n",
    "                                                 'exptime':exptime,\n",
    "                                                 'V3PA':V3PA}\n",
    "cgisim_obj.scene['schedule']['schedule_index_array'].append(np.ones(num_frames_ref)*index_batch_ref)"
   ]
  },
  {
   "cell_type": "code",
   "execution_count": 8,
   "id": "ef8d8e22",
   "metadata": {},
   "outputs": [],
   "source": [
    "# Science observation roll 1\n",
    "index_batch_roll1 = 1\n",
    "batch_ID = 100\n",
    "num_frames_roll1 = len(np.where(batch_id_os11==batch_ID)[0])\n",
    "sourceid_sci = 0    # choose source star\n",
    "V3PA_roll1 = 13     # roll angle\n",
    "exptime = 30\n",
    "cgisim_obj.scene['schedule']['batches'].append({'num_timesteps':num_frames_roll1,\n",
    "                                                 'batch_ID':batch_ID,\n",
    "                                                 'sourceid':sourceid_sci,\n",
    "                                                 'exptime':exptime,\n",
    "                                                 'V3PA':V3PA_roll1})\n",
    "cgisim_obj.scene['schedule']['schedule_index_array'].append(np.ones(num_frames_ref)*index_batch_roll1)\n"
   ]
  },
  {
   "cell_type": "code",
   "execution_count": 9,
   "id": "84fa280a",
   "metadata": {},
   "outputs": [],
   "source": [
    "# Science observation roll 2\n",
    "index_batch_roll2 = 2\n",
    "batch_ID = 101\n",
    "# num_frames_roll2 = 3\n",
    "num_frames_roll2 = len(np.where(batch_id_os11==batch_ID)[0])\n",
    "sourceid_sci = 0 # what star?\n",
    "V3PA_roll2 = -13 #roll angle\n",
    "exptime = 30\n",
    "cgisim_obj.scene['schedule']['batches'].append({'num_timesteps':num_frames_roll2,\n",
    "                                                 'batch_ID':batch_ID,\n",
    "                                                 'sourceid':sourceid_sci,\n",
    "                                                 'exptime':exptime,\n",
    "                                                 'V3PA':V3PA_roll2})\n",
    "cgisim_obj.scene['schedule']['schedule_index_array'].append(np.ones(num_frames_ref)*index_batch_roll2)\n"
   ]
  },
  {
   "cell_type": "code",
   "execution_count": 10,
   "id": "c07f0f01",
   "metadata": {},
   "outputs": [],
   "source": [
    "xoffsets = [50, 100, 200, 250, 100, 200]\n",
    "yoffsets = [50, 100, 200, 250, -100, -200]"
   ]
  },
  {
   "cell_type": "code",
   "execution_count": 11,
   "id": "00193517",
   "metadata": {},
   "outputs": [],
   "source": [
    "# Add point source companion\n",
    "cgisim_obj.add_point_source_to_scene(sourceid=2, central_sourceid=0, xoffset=xoffsets[0], yoffset=yoffsets[0])"
   ]
  },
  {
   "cell_type": "code",
   "execution_count": null,
   "id": "3b1cdfe7",
   "metadata": {},
   "outputs": [],
   "source": []
  }
 ],
 "metadata": {
  "kernelspec": {
   "display_name": "roman-cgi",
   "language": "python",
   "name": "roman-cgi"
  },
  "language_info": {
   "codemirror_mode": {
    "name": "ipython",
    "version": 3
   },
   "file_extension": ".py",
   "mimetype": "text/x-python",
   "name": "python",
   "nbconvert_exporter": "python",
   "pygments_lexer": "ipython3",
   "version": "3.9.12"
  }
 },
 "nbformat": 4,
 "nbformat_minor": 5
}
